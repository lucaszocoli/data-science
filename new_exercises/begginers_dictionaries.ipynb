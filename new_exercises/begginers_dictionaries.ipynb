{
 "cells": [
  {
   "cell_type": "code",
   "execution_count": 4,
   "metadata": {},
   "outputs": [
    {
     "name": "stdout",
     "output_type": "stream",
     "text": [
      "{'Name': 'Lucas', 'Age': 24, 'Courses': ['Computer science', 'Environmental engineering']}\n",
      "['Computer science', 'Environmental engineering']\n"
     ]
    }
   ],
   "source": [
    "student = {\n",
    "    'Name': 'Lucas',\n",
    "    'Age': 24,\n",
    "    'Courses': ['Computer science', 'Environmental engineering']\n",
    "}\n",
    "\n",
    "print(student)\n",
    "print(student['Courses'])"
   ]
  },
  {
   "cell_type": "code",
   "execution_count": 12,
   "metadata": {},
   "outputs": [
    {
     "name": "stdout",
     "output_type": "stream",
     "text": [
      "Something\n",
      "Not found\n",
      "Flavio\n",
      "{'Name': 'Robert', 'Courses': ['Computer science', 'Environmental engineering'], 'Phone': '(49) 99999-9999'}\n",
      "{'Name': 'Flavio', 'Courses': ['Computer science', 'Environmental engineering'], 'Phone': '(49) 99999-9999', 'Age': 25}\n",
      "{'Name': 'Flavio', 'Courses': ['Computer science', 'Environmental engineering'], 'Age': 25}\n",
      "25\n",
      "{'Name': 'Flavio', 'Courses': ['Computer science', 'Environmental engineering']}\n"
     ]
    }
   ],
   "source": [
    "number_key = {1: 'Something'}\n",
    "\n",
    "print(number_key[1])\n",
    "\n",
    "# If you try to find a key that does not exist with brackets, it will\n",
    "# throw an error. To accomplish that, we can use the 'get' method\n",
    "\n",
    "print(student.get('Phone', 'Not found'))\n",
    "print(student.get('Name', 'Not found'))\n",
    "\n",
    "student['Phone'] = '(49) 99999-9999'\n",
    "student['Name'] = 'Robert'\n",
    "\n",
    "print(student)\n",
    "\n",
    "# Updating multiple values with one statement\n",
    "\n",
    "student.update({\n",
    "    'Name': 'Flavio',\n",
    "     'Age': 25})\n",
    "print(student)\n",
    "\n",
    "# Deleting a key from the dictionary\n",
    "\n",
    "del student['Phone']\n",
    "print(student)\n",
    "\n",
    "# Removing and getting the value as return\n",
    "age = student.pop('Age')\n",
    "print(age)\n",
    "print(student)"
   ]
  },
  {
   "cell_type": "code",
   "execution_count": 20,
   "metadata": {},
   "outputs": [
    {
     "name": "stdout",
     "output_type": "stream",
     "text": [
      "2\n",
      "dict_keys(['Name', 'Courses'])\n",
      "dict_values(['Flavio', ['Computer science', 'Environmental engineering']])\n",
      "dict_items([('Name', 'Flavio'), ('Courses', ['Computer science', 'Environmental engineering'])])\n",
      "Name\n",
      "Courses\n",
      "Name Flavio\n",
      "Courses ['Computer science', 'Environmental engineering']\n"
     ]
    }
   ],
   "source": [
    "# Counting keys\n",
    "print(len(student))\n",
    "\n",
    "# Looking at the keys\n",
    "print(student.keys())\n",
    "\n",
    "# Looking at the values\n",
    "print(student.values())\n",
    "\n",
    "# Looking at both, keys and values\n",
    "print(student.items())\n",
    "\n",
    "# Looping through values \n",
    "for key in student:\n",
    "    print(key)\n",
    "\n",
    "# Looping through the tuples\n",
    "for key, value in student.items():\n",
    "    print(key, value)"
   ]
  },
  {
   "cell_type": "code",
   "execution_count": null,
   "metadata": {},
   "outputs": [],
   "source": []
  }
 ],
 "metadata": {
  "interpreter": {
   "hash": "0984bf700f435ca0ee7f4258bc9a9f0bc9d490927c47fb26e20f603f8168b4e1"
  },
  "kernelspec": {
   "display_name": "Python 3.8.12 64-bit ('py': conda)",
   "language": "python",
   "name": "python3"
  },
  "language_info": {
   "codemirror_mode": {
    "name": "ipython",
    "version": 3
   },
   "file_extension": ".py",
   "mimetype": "text/x-python",
   "name": "python",
   "nbconvert_exporter": "python",
   "pygments_lexer": "ipython3",
   "version": "3.8.12"
  },
  "orig_nbformat": 4
 },
 "nbformat": 4,
 "nbformat_minor": 2
}
