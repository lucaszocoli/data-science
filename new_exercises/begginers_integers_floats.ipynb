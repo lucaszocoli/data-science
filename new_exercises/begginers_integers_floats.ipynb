{
 "cells": [
  {
   "cell_type": "code",
   "execution_count": 1,
   "metadata": {},
   "outputs": [
    {
     "name": "stdout",
     "output_type": "stream",
     "text": [
      "<class 'int'>\n",
      "<class 'float'>\n"
     ]
    }
   ],
   "source": [
    "# Looking the variable type\n",
    "\n",
    "num_int = 3\n",
    "num_float = 3.14\n",
    "\n",
    "print(type(num_int))\n",
    "print(type(num_float))"
   ]
  },
  {
   "cell_type": "code",
   "execution_count": 3,
   "metadata": {},
   "outputs": [
    {
     "name": "stdout",
     "output_type": "stream",
     "text": [
      "Add:  5\n",
      "Sub:  1\n",
      "Multi:  6\n",
      "Div:  1.5\n",
      "Floor div:  1\n",
      "Exp:  9\n",
      "Mod:  1\n"
     ]
    }
   ],
   "source": [
    "# Arithmetic operators\n",
    "\n",
    "# Addition:                 3 + 2\n",
    "# Subtraction:              3 - 2\n",
    "# Multiplication:           3 * 2\n",
    "# Division:                 3 / 2\n",
    "# Floor division:           3 // 2\n",
    "# Exponentiation:           3 ** 2\n",
    "# Modulus:                  3 % 2\n",
    "\n",
    "print('Add: ', 3 + 2)\n",
    "print('Sub: ', 3 - 2)\n",
    "print('Multi: ', 3 * 2)\n",
    "print('Div: ', 3 / 2)\n",
    "print('Floor div: ', 3 // 2)\n",
    "print('Exp: ', 3 ** 2)\n",
    "print('Mod: ', 3 % 2)"
   ]
  },
  {
   "cell_type": "code",
   "execution_count": 4,
   "metadata": {},
   "outputs": [
    {
     "name": "stdout",
     "output_type": "stream",
     "text": [
      "7\n",
      "9\n"
     ]
    }
   ],
   "source": [
    "# Order of operations\n",
    "\n",
    "# Multiply first, then add\n",
    "print(3 * 2 + 1)\n",
    "\n",
    "# Add first, then multiply\n",
    "print(3 * (2 + 1))"
   ]
  },
  {
   "cell_type": "code",
   "execution_count": 5,
   "metadata": {},
   "outputs": [
    {
     "name": "stdout",
     "output_type": "stream",
     "text": [
      "2\n",
      "4\n"
     ]
    }
   ],
   "source": [
    "# Incrementing a variable\n",
    "\n",
    "num = 1\n",
    "# Same as 'num = num + 1'\n",
    "num += 1\n",
    "print(num)\n",
    "\n",
    "# It works for any operation\n",
    "num *= 2\n",
    "print(num)"
   ]
  },
  {
   "cell_type": "code",
   "execution_count": 7,
   "metadata": {},
   "outputs": [
    {
     "name": "stdout",
     "output_type": "stream",
     "text": [
      "3\n",
      "4\n",
      "3.8\n"
     ]
    }
   ],
   "source": [
    "# Built-in methods for numbers\n",
    "\n",
    "# Getting the absolute value\n",
    "print(abs(-3))\n",
    "\n",
    "# Rounding value\n",
    "print(round(3.75))\n",
    "print(round(3.75, 1))"
   ]
  },
  {
   "cell_type": "code",
   "execution_count": 8,
   "metadata": {},
   "outputs": [
    {
     "name": "stdout",
     "output_type": "stream",
     "text": [
      "False\n",
      "True\n",
      "True\n",
      "False\n",
      "True\n",
      "False\n"
     ]
    }
   ],
   "source": [
    "# Comparisons\n",
    "\n",
    "# Equal:                3 == 1\n",
    "# Not equal:            3 != 1\n",
    "# Greater than:         3 > 1\n",
    "# Less than:            3 < 1\n",
    "# Greater or equal:     3 >= 1    \n",
    "# Less or equal:        3 <= 1\n",
    "\n",
    "print(3 == 1)\n",
    "print(3 != 1)\n",
    "print(3 > 1)\n",
    "print(3 < 1)\n",
    "print(3 >= 1)\n",
    "print(3 <= 1)\n"
   ]
  },
  {
   "cell_type": "code",
   "execution_count": 9,
   "metadata": {},
   "outputs": [
    {
     "name": "stdout",
     "output_type": "stream",
     "text": [
      "100200\n",
      "300\n"
     ]
    }
   ],
   "source": [
    "# Casting\n",
    "\n",
    "num_1 = \"100\"\n",
    "num_2 = \"200\"\n",
    "\n",
    "print(num_1 + num_2)\n",
    "\n",
    "num_1 = int(num_1)\n",
    "num_2 = int(num_2)\n",
    "\n",
    "print(num_1 + num_2)"
   ]
  }
 ],
 "metadata": {
  "interpreter": {
   "hash": "0984bf700f435ca0ee7f4258bc9a9f0bc9d490927c47fb26e20f603f8168b4e1"
  },
  "kernelspec": {
   "display_name": "Python 3.8.12 64-bit ('py': conda)",
   "language": "python",
   "name": "python3"
  },
  "language_info": {
   "codemirror_mode": {
    "name": "ipython",
    "version": 3
   },
   "file_extension": ".py",
   "mimetype": "text/x-python",
   "name": "python",
   "nbconvert_exporter": "python",
   "pygments_lexer": "ipython3",
   "version": "3.8.12"
  },
  "orig_nbformat": 4
 },
 "nbformat": 4,
 "nbformat_minor": 2
}
