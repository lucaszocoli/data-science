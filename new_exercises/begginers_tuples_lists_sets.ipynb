{
 "cells": [
  {
   "cell_type": "markdown",
   "metadata": {},
   "source": [
    "<h1> Lists"
   ]
  },
  {
   "cell_type": "code",
   "execution_count": 1,
   "metadata": {},
   "outputs": [
    {
     "name": "stdout",
     "output_type": "stream",
     "text": [
      "['History', 'Math', 'Physics', 'CompSci']\n",
      "4\n",
      "History\n"
     ]
    }
   ],
   "source": [
    "courses = ['History', 'Math', 'Physics', 'CompSci']\n",
    "\n",
    "print(courses)\n",
    "print(len(courses))\n",
    "print(courses[0])"
   ]
  },
  {
   "cell_type": "code",
   "execution_count": 2,
   "metadata": {},
   "outputs": [
    {
     "name": "stdout",
     "output_type": "stream",
     "text": [
      "CompSci\n"
     ]
    }
   ],
   "source": [
    "# Get tge element in the last index\n",
    "print(courses[-1])"
   ]
  },
  {
   "cell_type": "code",
   "execution_count": 3,
   "metadata": {},
   "outputs": [
    {
     "name": "stdout",
     "output_type": "stream",
     "text": [
      "['Art', 'History', 'Math', 'Physics', 'CompSci', 'Geography']\n"
     ]
    }
   ],
   "source": [
    "# Add as the first element of our list\n",
    "courses.insert(0, 'Art')\n",
    "courses.append('Geography')\n",
    "\n",
    "print(courses)"
   ]
  },
  {
   "cell_type": "code",
   "execution_count": 7,
   "metadata": {},
   "outputs": [
    {
     "name": "stdout",
     "output_type": "stream",
     "text": [
      "[['Art', 'Education'], 'History', 'Physics', 'CompSci']\n",
      "['History', 'Math', 'Physics', 'CompSci', 'Art', 'Education']\n"
     ]
    }
   ],
   "source": [
    "courses_2 = ['Art', 'Education']\n",
    "\n",
    "# Add a list inside a list\n",
    "courses.insert(0, courses_2)\n",
    "print(courses)\n",
    "\n",
    "\n",
    "courses = ['History', 'Math', 'Physics', 'CompSci']\n",
    "courses.extend(courses_2)\n",
    "print(courses)"
   ]
  },
  {
   "cell_type": "code",
   "execution_count": 8,
   "metadata": {},
   "outputs": [
    {
     "name": "stdout",
     "output_type": "stream",
     "text": [
      "['History', 'Physics', 'CompSci', 'Art', 'Education']\n",
      "['History', 'Physics', 'CompSci', 'Art']\n",
      "Art\n"
     ]
    }
   ],
   "source": [
    "# Remove the element 'Math'\n",
    "courses.remove('Math')\n",
    "print(courses)\n",
    "\n",
    "# Remove the last element\n",
    "courses.pop()\n",
    "print(courses)\n",
    "\n",
    "popped_value = courses.pop()\n",
    "print(popped_value)\n"
   ]
  },
  {
   "cell_type": "code",
   "execution_count": 9,
   "metadata": {},
   "outputs": [
    {
     "name": "stdout",
     "output_type": "stream",
     "text": [
      "['CompSci', 'Physics', 'History']\n",
      "[1, 2, 3, 5, 8]\n",
      "[8, 5, 3, 2, 1]\n",
      "Sorted:  [1, 2, 3, 5, 8]\n",
      "Non sorted:  [1, 5, 3, 8, 2]\n"
     ]
    }
   ],
   "source": [
    "# Reverse the list\n",
    "courses.reverse()\n",
    "print(courses)\n",
    "\n",
    "# Sorting the list\n",
    "nums = [1, 5, 3, 8, 2]\n",
    "nums.sort()\n",
    "print(nums)\n",
    "\n",
    "# Decending order\n",
    "nums.sort(reverse=True)\n",
    "print(nums)\n",
    "\n",
    "# Sorting a list without affecting the original one\n",
    "nums = [1, 5, 3, 8, 2]\n",
    "sorted_nums = sorted(nums)\n",
    "print('Sorted: ', sorted_nums)\n",
    "print('Non sorted: ', nums)\n"
   ]
  },
  {
   "cell_type": "code",
   "execution_count": 11,
   "metadata": {},
   "outputs": [
    {
     "name": "stdout",
     "output_type": "stream",
     "text": [
      "2\n",
      "False\n"
     ]
    }
   ],
   "source": [
    "# Searching for indexes of element inside a list\n",
    "print(courses.index('History'))\n",
    "\n",
    "# Verify if an element exists in the list\n",
    "print('Art' in courses)"
   ]
  },
  {
   "cell_type": "code",
   "execution_count": 12,
   "metadata": {},
   "outputs": [
    {
     "name": "stdout",
     "output_type": "stream",
     "text": [
      "1 CompSci\n",
      "2 Physics\n",
      "3 History\n"
     ]
    }
   ],
   "source": [
    "for index, item in enumerate(courses, start=1):\n",
    "    print(index, item)"
   ]
  },
  {
   "cell_type": "code",
   "execution_count": 14,
   "metadata": {},
   "outputs": [
    {
     "name": "stdout",
     "output_type": "stream",
     "text": [
      "CompSci - Physics - History\n",
      "['CompSci', 'Physics', 'History']\n"
     ]
    }
   ],
   "source": [
    "course_str = ' - '.join(courses)\n",
    "print(course_str)\n",
    "\n",
    "new_list = course_str.split(' - ')\n",
    "print(new_list)"
   ]
  },
  {
   "cell_type": "markdown",
   "metadata": {},
   "source": [
    "<h1>Tuples</h1>\n",
    "The main difference between lists and tuples are that lists are mutable and tuples are imutable"
   ]
  },
  {
   "cell_type": "code",
   "execution_count": 16,
   "metadata": {},
   "outputs": [
    {
     "name": "stdout",
     "output_type": "stream",
     "text": [
      "['History', 'Math', 'Physics', 'CompSci']\n",
      "['History', 'Math', 'Physics', 'CompSci']\n"
     ]
    }
   ],
   "source": [
    "list_1 = ['History', 'Math', 'Physics', 'CompSci']\n",
    "list_2 = list_1\n",
    "\n",
    "print(list_1)\n",
    "print(list_2)"
   ]
  },
  {
   "cell_type": "code",
   "execution_count": 17,
   "metadata": {},
   "outputs": [
    {
     "name": "stdout",
     "output_type": "stream",
     "text": [
      "['Art', 'Math', 'Physics', 'CompSci']\n",
      "['Art', 'Math', 'Physics', 'CompSci']\n"
     ]
    }
   ],
   "source": [
    "# By changing list_1 values, we are changing list_2 \n",
    "# Because both of them are the same mutable object\n",
    "\n",
    "list_1[0] = 'Art'\n",
    "\n",
    "print(list_1)\n",
    "print(list_2)"
   ]
  },
  {
   "cell_type": "code",
   "execution_count": 18,
   "metadata": {},
   "outputs": [
    {
     "name": "stdout",
     "output_type": "stream",
     "text": [
      "('History', 'Math', 'Physics', 'CompSci')\n",
      "('History', 'Math', 'Physics', 'CompSci')\n"
     ]
    },
    {
     "ename": "TypeError",
     "evalue": "'tuple' object does not support item assignment",
     "output_type": "error",
     "traceback": [
      "\u001b[1;31m---------------------------------------------------------------------------\u001b[0m",
      "\u001b[1;31mTypeError\u001b[0m                                 Traceback (most recent call last)",
      "\u001b[1;32m~\\AppData\\Local\\Temp/ipykernel_12232/780801847.py\u001b[0m in \u001b[0;36m<module>\u001b[1;34m\u001b[0m\n\u001b[0;32m      6\u001b[0m \u001b[1;33m\u001b[0m\u001b[0m\n\u001b[0;32m      7\u001b[0m \u001b[1;31m# This will throw an error because the tuples are imutable\u001b[0m\u001b[1;33m\u001b[0m\u001b[1;33m\u001b[0m\u001b[1;33m\u001b[0m\u001b[0m\n\u001b[1;32m----> 8\u001b[1;33m \u001b[0mtuple_1\u001b[0m\u001b[1;33m[\u001b[0m\u001b[1;36m0\u001b[0m\u001b[1;33m]\u001b[0m \u001b[1;33m=\u001b[0m \u001b[1;34m'Art'\u001b[0m\u001b[1;33m\u001b[0m\u001b[1;33m\u001b[0m\u001b[0m\n\u001b[0m",
      "\u001b[1;31mTypeError\u001b[0m: 'tuple' object does not support item assignment"
     ]
    }
   ],
   "source": [
    "tuple_1 = ('History', 'Math', 'Physics', 'CompSci')\n",
    "tuple_2 = tuple_1\n",
    "\n",
    "print(tuple_1)\n",
    "print(tuple_2)\n",
    "\n",
    "# This will throw an error because the tuples are imutable\n",
    "tuple_1[0] = 'Art'"
   ]
  },
  {
   "cell_type": "markdown",
   "metadata": {},
   "source": [
    "<h1>Sets "
   ]
  },
  {
   "cell_type": "code",
   "execution_count": 20,
   "metadata": {},
   "outputs": [
    {
     "name": "stdout",
     "output_type": "stream",
     "text": [
      "{'Physics', 'History', 'CompSci', 'Math'}\n",
      "{'Physics', 'History', 'CompSci', 'Math'}\n",
      "True\n",
      "{'History', 'Math'}\n",
      "{'Physics', 'CompSci'}\n",
      "{'CompSci', 'Math', 'Design', 'Art', 'Physics', 'History'}\n"
     ]
    }
   ],
   "source": [
    "cs_courses = {'History', 'Math', 'Physics', 'CompSci'}\n",
    "\n",
    "# The value order can change because sets does not care about order\n",
    "print(cs_courses)\n",
    "\n",
    "# Also, it does not allow duplicates\n",
    "cs_courses = {'History', 'Math', 'Physics', 'Math', 'CompSci'}\n",
    "print(cs_courses)\n",
    "\n",
    "print('Math' in cs_courses)\n",
    "\n",
    "art_courses = {'History', 'Math', 'Art', 'Design'}\n",
    "print(cs_courses.intersection(art_courses))\n",
    "print(cs_courses.difference(art_courses))\n",
    "print(cs_courses.union(art_courses))"
   ]
  },
  {
   "cell_type": "markdown",
   "metadata": {},
   "source": [
    "<h1>Creating empty lists, tuples and sets"
   ]
  },
  {
   "cell_type": "code",
   "execution_count": 21,
   "metadata": {},
   "outputs": [],
   "source": [
    "# Empty lists\n",
    "empty_list = []\n",
    "empty_list = list()\n",
    "\n",
    "# Empty tuples\n",
    "empty_tuples = ()\n",
    "empty_tuples = tuple()\n",
    "\n",
    "# Empty sets\n",
    "empty_sets = {}         # This is not an empty set, this is an empty dictionary\n",
    "empty_sets = set()"
   ]
  }
 ],
 "metadata": {
  "interpreter": {
   "hash": "c5cedc0f82264c140c099b91a7243ed9e1f868881fa4c685db19f5a0fd1164e4"
  },
  "kernelspec": {
   "display_name": "Python 3.10.0 64-bit",
   "language": "python",
   "name": "python3"
  },
  "language_info": {
   "codemirror_mode": {
    "name": "ipython",
    "version": 3
   },
   "file_extension": ".py",
   "mimetype": "text/x-python",
   "name": "python",
   "nbconvert_exporter": "python",
   "pygments_lexer": "ipython3",
   "version": "3.8.12"
  },
  "orig_nbformat": 4
 },
 "nbformat": 4,
 "nbformat_minor": 2
}
