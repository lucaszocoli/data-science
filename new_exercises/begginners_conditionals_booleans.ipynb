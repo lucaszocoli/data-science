{
 "cells": [
  {
   "cell_type": "code",
   "execution_count": 1,
   "metadata": {},
   "outputs": [
    {
     "name": "stdout",
     "output_type": "stream",
     "text": [
      "Condition is true\n",
      "Condition is true\n",
      "No match\n",
      "Admin page\n"
     ]
    }
   ],
   "source": [
    "if True:\n",
    "    print('Condition is true')\n",
    "\n",
    "if False:\n",
    "    print('Condition is false')\n",
    "\n",
    "# Using variables\n",
    "\n",
    "language = 'Python'\n",
    "\n",
    "if language == 'Python':\n",
    "    print('Condition is true')\n",
    "\n",
    "# Comparisons\n",
    "\n",
    "# Equal                 ==\n",
    "# Not equal             !=\n",
    "# Greater than          >\n",
    "# Less than             <\n",
    "# Greater or equal      >=\n",
    "# Less or equal         <=\n",
    "# Object identity       is <- same object in the memory\n",
    "\n",
    "\n",
    "if language == 'Pyhton':\n",
    "    print('The language is python')\n",
    "elif language == 'Java':\n",
    "    print('The language is Java')\n",
    "else:\n",
    "    print('No match')\n",
    "\n",
    "\n",
    "# Conditionals\n",
    "# And, or, not\n",
    "\n",
    "user = 'Admin'\n",
    "logged_in = True\n",
    "\n",
    "if user == 'Admin' and logged_in:\n",
    "    print('Admin page')\n",
    "else: \n",
    "    print('You are not an admin')"
   ]
  },
  {
   "cell_type": "markdown",
   "metadata": {},
   "source": [
    "<h2>Verifying objects vs Verifying values<h2>"
   ]
  },
  {
   "cell_type": "code",
   "execution_count": 4,
   "metadata": {},
   "outputs": [
    {
     "name": "stdout",
     "output_type": "stream",
     "text": [
      "True\n",
      "False\n",
      "2243830673856 2243830369792\n"
     ]
    }
   ],
   "source": [
    "a = [1, 2, 3]\n",
    "b = [1, 2, 3]\n",
    "c = [2, 3, 1]\n",
    "\n",
    "print(a==b)\n",
    "print(a is b)\n",
    "print(id(a), id(b))\n"
   ]
  },
  {
   "cell_type": "code",
   "execution_count": 5,
   "metadata": {},
   "outputs": [
    {
     "name": "stdout",
     "output_type": "stream",
     "text": [
      "False\n"
     ]
    }
   ],
   "source": [
    "# Conditionals\n",
    "\n",
    "# condition = False         boolean\n",
    "# condition = None          None\n",
    "# condition = 0             Zero of any numeric type\n",
    "# condition = 10            Zero of any numeric type\n",
    "# condition = ''            Any empty sequence, for example: '', (), []\n",
    "# condition = {}            Any empty mapping, for example: {}\n",
    "\n",
    "condition = a == c\n",
    "\n",
    "if condition:\n",
    "    print('True')\n",
    "else:\n",
    "    print('False')\n",
    "    "
   ]
  }
 ],
 "metadata": {
  "interpreter": {
   "hash": "0984bf700f435ca0ee7f4258bc9a9f0bc9d490927c47fb26e20f603f8168b4e1"
  },
  "kernelspec": {
   "display_name": "Python 3.8.12 64-bit ('py': conda)",
   "language": "python",
   "name": "python3"
  },
  "language_info": {
   "codemirror_mode": {
    "name": "ipython",
    "version": 3
   },
   "file_extension": ".py",
   "mimetype": "text/x-python",
   "name": "python",
   "nbconvert_exporter": "python",
   "pygments_lexer": "ipython3",
   "version": "3.8.12"
  },
  "orig_nbformat": 4
 },
 "nbformat": 4,
 "nbformat_minor": 2
}
