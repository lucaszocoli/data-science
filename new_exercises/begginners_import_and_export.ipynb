{
 "cells": [
  {
   "cell_type": "code",
   "execution_count": 1,
   "metadata": {},
   "outputs": [],
   "source": [
    "import fibo"
   ]
  },
  {
   "cell_type": "code",
   "execution_count": 2,
   "metadata": {},
   "outputs": [
    {
     "name": "stdout",
     "output_type": "stream",
     "text": [
      "0 1 1 2 3 5 8 13 21 34 55 89 144 233 377 610 987 \n"
     ]
    },
    {
     "data": {
      "text/plain": [
       "'fibo'"
      ]
     },
     "execution_count": 2,
     "metadata": {},
     "output_type": "execute_result"
    }
   ],
   "source": [
    "fibo.fib(1000)\n",
    "fibo.fib2(1000)\n",
    "fibo.__name__"
   ]
  },
  {
   "cell_type": "code",
   "execution_count": 3,
   "metadata": {},
   "outputs": [
    {
     "name": "stdout",
     "output_type": "stream",
     "text": [
      "0 1 1 2 3 5 8 13 21 34 55 89 144 233 377 610 987 \n"
     ]
    }
   ],
   "source": [
    "from fibo import fib\n",
    "fib(1000)\n"
   ]
  },
  {
   "cell_type": "markdown",
   "metadata": {},
   "source": [
    "<h1>The importing system from python looks to multiple paths\n"
   ]
  },
  {
   "cell_type": "code",
   "execution_count": 5,
   "metadata": {},
   "outputs": [
    {
     "name": "stdout",
     "output_type": "stream",
     "text": [
      "['c:\\\\Projects\\\\python\\\\python-files\\\\new_exercises', 'c:\\\\Users\\\\cliente\\\\.vscode\\\\extensions\\\\ms-toolsai.jupyter-2021.10.1101450599\\\\pythonFiles', 'c:\\\\Users\\\\cliente\\\\.vscode\\\\extensions\\\\ms-toolsai.jupyter-2021.10.1101450599\\\\pythonFiles\\\\lib\\\\python', 'C:\\\\Users\\\\cliente\\\\anaconda3\\\\envs\\\\py\\\\python38.zip', 'C:\\\\Users\\\\cliente\\\\anaconda3\\\\envs\\\\py\\\\DLLs', 'C:\\\\Users\\\\cliente\\\\anaconda3\\\\envs\\\\py\\\\lib', 'C:\\\\Users\\\\cliente\\\\anaconda3\\\\envs\\\\py', '', 'C:\\\\Users\\\\cliente\\\\anaconda3\\\\envs\\\\py\\\\lib\\\\site-packages', 'C:\\\\Users\\\\cliente\\\\anaconda3\\\\envs\\\\py\\\\lib\\\\site-packages\\\\win32', 'C:\\\\Users\\\\cliente\\\\anaconda3\\\\envs\\\\py\\\\lib\\\\site-packages\\\\win32\\\\lib', 'C:\\\\Users\\\\cliente\\\\anaconda3\\\\envs\\\\py\\\\lib\\\\site-packages\\\\Pythonwin', 'C:\\\\Users\\\\cliente\\\\anaconda3\\\\envs\\\\py\\\\lib\\\\site-packages\\\\IPython\\\\extensions', 'C:\\\\Users\\\\cliente\\\\.ipython']\n"
     ]
    }
   ],
   "source": [
    "import sys\n",
    "\n",
    "# Show all paths were python are located\n",
    "print(sys.path)\n",
    "\n",
    "# Adding new directories to the path\n",
    "sys.path.append(\"PATH_TO_THE_FILE\")"
   ]
  },
  {
   "cell_type": "code",
   "execution_count": 7,
   "metadata": {},
   "outputs": [
    {
     "name": "stdout",
     "output_type": "stream",
     "text": [
      "Arts\n"
     ]
    }
   ],
   "source": [
    "# Looking into standard libraries\n",
    "\n",
    "import random\n",
    "\n",
    "courses = ['Arts', 'Economics', 'Engineering', 'Computer science']\n",
    "\n",
    "random_course = random.choice(courses)\n",
    "print(random_course)"
   ]
  },
  {
   "cell_type": "code",
   "execution_count": 8,
   "metadata": {},
   "outputs": [
    {
     "name": "stdout",
     "output_type": "stream",
     "text": [
      "1.5707963267948966\n"
     ]
    }
   ],
   "source": [
    "import math\n",
    "\n",
    "rads = math.radians(90)\n",
    "print(rads)"
   ]
  },
  {
   "cell_type": "code",
   "execution_count": 12,
   "metadata": {},
   "outputs": [
    {
     "name": "stdout",
     "output_type": "stream",
     "text": [
      "2021-11-15\n",
      "15/11/2021\n",
      "True\n",
      "False\n"
     ]
    }
   ],
   "source": [
    "import datetime\n",
    "import calendar\n",
    "\n",
    "today = datetime.date.today()\n",
    "print(today)\n",
    "today = today.strftime('%d/%m/%Y')\n",
    "print(today)\n",
    "\n",
    "print(calendar.isleap(2020))\n",
    "print(calendar.isleap(2021))"
   ]
  },
  {
   "cell_type": "code",
   "execution_count": null,
   "metadata": {},
   "outputs": [],
   "source": [
    "import os \n",
    "\n",
    "print(os.getcwd())\n",
    "print(os.__file__)"
   ]
  }
 ],
 "metadata": {
  "interpreter": {
   "hash": "0984bf700f435ca0ee7f4258bc9a9f0bc9d490927c47fb26e20f603f8168b4e1"
  },
  "kernelspec": {
   "display_name": "Python 3.8.12 64-bit ('py': conda)",
   "language": "python",
   "name": "python3"
  },
  "language_info": {
   "codemirror_mode": {
    "name": "ipython",
    "version": 3
   },
   "file_extension": ".py",
   "mimetype": "text/x-python",
   "name": "python",
   "nbconvert_exporter": "python",
   "pygments_lexer": "ipython3",
   "version": "3.8.12"
  },
  "orig_nbformat": 4
 },
 "nbformat": 4,
 "nbformat_minor": 2
}
