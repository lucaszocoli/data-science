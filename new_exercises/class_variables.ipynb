{
 "cells": [
  {
   "cell_type": "code",
   "execution_count": 1,
   "metadata": {},
   "outputs": [],
   "source": [
    "#Class variables: are variables shared with all instances of a class\n",
    "\n",
    "class Employee:\n",
    "    def __init__(self, first, last, pay):\n",
    "        self.first = first\n",
    "        self.last = last\n",
    "        self.pay = pay\n",
    "        self.email = '{0}.{1}'.format(first, last).lower()\n",
    "\n",
    "    def fullname(self):\n",
    "        return '{0} {1}'.format(self.first, self.last)\n",
    "\n",
    "    def raiseapply(self):\n",
    "        self.pay = int(self.pay * 1.04)"
   ]
  },
  {
   "cell_type": "code",
   "execution_count": 2,
   "metadata": {},
   "outputs": [],
   "source": [
    "emp_w_init_one = Employee('Lucas', 'Zocoli', 50000)\n",
    "emp_w_init_two = Employee('Second', 'User', 40000)"
   ]
  },
  {
   "cell_type": "code",
   "execution_count": 6,
   "metadata": {},
   "outputs": [
    {
     "name": "stdout",
     "output_type": "stream",
     "text": [
      "56243\n",
      "58492\n"
     ]
    }
   ],
   "source": [
    "print(emp_w_init_one.pay)\n",
    "emp_w_init_one.raiseapply()\n",
    "print(emp_w_init_one.pay)"
   ]
  },
  {
   "cell_type": "code",
   "execution_count": 8,
   "metadata": {},
   "outputs": [],
   "source": [
    "# Class variables: are variables shared with all instances of a class\n",
    "\n",
    "class Employee:\n",
    "    raise_amout = 1.04\n",
    "\n",
    "    def __init__(self, first, last, pay):\n",
    "        self.first = first\n",
    "        self.last = last\n",
    "        self.pay = pay\n",
    "        self.email = '{0}.{1}@company.com'.format(first, last).lower()\n",
    "\n",
    "    def fullname(self):\n",
    "        return '{0} {1}'.format(self.first, self.last)\n",
    "\n",
    "    def raiseapply(self):\n",
    "        self.pay = int(self.pay * self.raiseapply)\n",
    "        # This also work Employee.raiseapply\n",
    "        # But using that way wouldn't work if any instance\n",
    "        # Of employee try to change the value of raiseapply"
   ]
  },
  {
   "cell_type": "code",
   "execution_count": 9,
   "metadata": {},
   "outputs": [],
   "source": [
    "emp_w_init_one = Employee('Lucas', 'Zocoli', 50000)\n",
    "emp_w_init_two = Employee('Second', 'User', 40000)"
   ]
  },
  {
   "cell_type": "code",
   "execution_count": 13,
   "metadata": {},
   "outputs": [
    {
     "name": "stdout",
     "output_type": "stream",
     "text": [
      "<function Employee.raiseapply at 0x000001B3A62D9280>\n",
      "<bound method Employee.raiseapply of <__main__.Employee object at 0x000001B3A6286460>>\n"
     ]
    }
   ],
   "source": [
    "print(Employee.raiseapply)\n",
    "print(emp_w_init_one.raiseapply)"
   ]
  },
  {
   "cell_type": "code",
   "execution_count": 14,
   "metadata": {},
   "outputs": [
    {
     "name": "stdout",
     "output_type": "stream",
     "text": [
      "{'first': 'Lucas', 'last': 'Zocoli', 'pay': 50000, 'email': 'lucas.zocoli@company.com'}\n"
     ]
    }
   ],
   "source": [
    "print(emp_w_init_one.__dict__)"
   ]
  },
  {
   "cell_type": "code",
   "execution_count": 15,
   "metadata": {},
   "outputs": [
    {
     "name": "stdout",
     "output_type": "stream",
     "text": [
      "{'__module__': '__main__', 'raise_amout': 1.04, '__init__': <function Employee.__init__ at 0x000001B3A62D9310>, 'fullname': <function Employee.fullname at 0x000001B3A62D90D0>, 'raiseapply': <function Employee.raiseapply at 0x000001B3A62D9280>, '__dict__': <attribute '__dict__' of 'Employee' objects>, '__weakref__': <attribute '__weakref__' of 'Employee' objects>, '__doc__': None}\n"
     ]
    }
   ],
   "source": [
    "print(Employee.__dict__)"
   ]
  },
  {
   "cell_type": "code",
   "execution_count": 16,
   "metadata": {},
   "outputs": [
    {
     "name": "stdout",
     "output_type": "stream",
     "text": [
      "1.05\n",
      "1.05\n",
      "{'first': 'Lucas', 'last': 'Zocoli', 'pay': 50000, 'email': 'lucas.zocoli@company.com'}\n"
     ]
    }
   ],
   "source": [
    "Employee.raiseapply = 1.05\n",
    "print(Employee.raiseapply)\n",
    "print(emp_w_init_one.raiseapply)\n",
    "print(emp_w_init_one.__dict__)"
   ]
  },
  {
   "cell_type": "code",
   "execution_count": 17,
   "metadata": {},
   "outputs": [
    {
     "name": "stdout",
     "output_type": "stream",
     "text": [
      "1.05\n",
      "1.06\n",
      "{'first': 'Lucas', 'last': 'Zocoli', 'pay': 50000, 'email': 'lucas.zocoli@company.com', 'raiseapply': 1.06}\n"
     ]
    }
   ],
   "source": [
    "emp_w_init_one.raiseapply = 1.06\n",
    "print(Employee.raiseapply)\n",
    "print(emp_w_init_one.raiseapply)\n",
    "print(emp_w_init_one.__dict__)"
   ]
  },
  {
   "cell_type": "code",
   "execution_count": 18,
   "metadata": {},
   "outputs": [],
   "source": [
    "class Employee:\n",
    "    num_of_emps = 0\n",
    "    raise_amount = 1.04\n",
    "\n",
    "    def __init__(self, first, last, pay):\n",
    "        self.first = first\n",
    "        self.last = last\n",
    "        self.pay = pay\n",
    "        self.email = '{0}.{1}@company.com'.format(first, last).lower()\n",
    "        \n",
    "        Employee.num_of_emps += 1\n",
    "\n",
    "    def fullname(self):\n",
    "        return '{0} {1}'.format(self.first, self.last)\n",
    "\n",
    "    def raiseapply(self):\n",
    "        self.pay = int(self.pay * self.raise_amount)\n",
    "        # This also works Employee.raise_amount\n",
    "        # But using that way would not work if any instance\n",
    "        # Of employee try to change the value of raise_amount"
   ]
  },
  {
   "cell_type": "code",
   "execution_count": 19,
   "metadata": {},
   "outputs": [
    {
     "name": "stdout",
     "output_type": "stream",
     "text": [
      "2\n"
     ]
    }
   ],
   "source": [
    "emp_w_init_one = Employee('Vanna', 'Sweetheart', 60000)\n",
    "emp_w_init_two = Employee('Test', 'User', 50000)\n",
    "\n",
    "print(Employee.num_of_emps)"
   ]
  }
 ],
 "metadata": {
  "interpreter": {
   "hash": "0984bf700f435ca0ee7f4258bc9a9f0bc9d490927c47fb26e20f603f8168b4e1"
  },
  "kernelspec": {
   "display_name": "Python 3.8.12 64-bit ('py': conda)",
   "language": "python",
   "name": "python3"
  },
  "language_info": {
   "codemirror_mode": {
    "name": "ipython",
    "version": 3
   },
   "file_extension": ".py",
   "mimetype": "text/x-python",
   "name": "python",
   "nbconvert_exporter": "python",
   "pygments_lexer": "ipython3",
   "version": "3.8.12"
  },
  "orig_nbformat": 4
 },
 "nbformat": 4,
 "nbformat_minor": 2
}
