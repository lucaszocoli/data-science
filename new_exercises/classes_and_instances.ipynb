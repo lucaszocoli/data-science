{
 "cells": [
  {
   "cell_type": "code",
   "execution_count": 1,
   "metadata": {},
   "outputs": [],
   "source": [
    "class Employee:\n",
    "    # If you need to create an object/function for the future but\n",
    "    # You can put pass so it won't give you an error\n",
    "    pass"
   ]
  },
  {
   "cell_type": "code",
   "execution_count": 2,
   "metadata": {},
   "outputs": [
    {
     "name": "stdout",
     "output_type": "stream",
     "text": [
      "<__main__.Employee object at 0x0000028E5F2844F0>\n",
      "<__main__.Employee object at 0x0000028E5F2847F0>\n"
     ]
    }
   ],
   "source": [
    "emp_one = Employee()\n",
    "emp_two = Employee()\n",
    "\n",
    "print(emp_one)\n",
    "print(emp_two)"
   ]
  },
  {
   "cell_type": "code",
   "execution_count": 3,
   "metadata": {},
   "outputs": [
    {
     "name": "stdout",
     "output_type": "stream",
     "text": [
      "lucas.zocoli@company.com\n",
      "second.user@company.com\n"
     ]
    }
   ],
   "source": [
    "emp_one.first = 'Lucas'\n",
    "emp_one.last = 'Zocoli'\n",
    "emp_one.email = 'lucas.zocoli@company.com'\n",
    "emp_one.pay = 50000\n",
    "\n",
    "emp_two.first = 'Second'\n",
    "emp_two.last = 'User'\n",
    "emp_two.email = 'second.user@company.com'\n",
    "emp_two.pay = 40000\n",
    "\n",
    "print(emp_one.email)\n",
    "print(emp_two.email)"
   ]
  },
  {
   "cell_type": "code",
   "execution_count": 4,
   "metadata": {},
   "outputs": [],
   "source": [
    "class Employee:\n",
    "    # Constructor\n",
    "    def __init__(self, first, last, pay):\n",
    "        self.first = first\n",
    "        self.last = last\n",
    "        self.pay = pay\n",
    "        self.email = '{0}.{1}@company.com'.format(first, last).lower()\n",
    "\n",
    "    def fullname(self):\n",
    "        return '{0} {1}'.format(self.first, self.last)\n"
   ]
  },
  {
   "cell_type": "code",
   "execution_count": 5,
   "metadata": {},
   "outputs": [
    {
     "name": "stdout",
     "output_type": "stream",
     "text": [
      "lucas.zocoli@company.com\n",
      "second.user@company.com\n"
     ]
    }
   ],
   "source": [
    "emp_w_init_one = Employee('Lucas', 'Zocoli', 50000)\n",
    "emp_w_init_two = Employee('Second', 'User', 40000)\n",
    "\n",
    "print(emp_w_init_one.email)\n",
    "print(emp_w_init_two.email)"
   ]
  },
  {
   "cell_type": "code",
   "execution_count": 6,
   "metadata": {},
   "outputs": [
    {
     "name": "stdout",
     "output_type": "stream",
     "text": [
      "Lucas Zocoli\n",
      "Second User\n"
     ]
    }
   ],
   "source": [
    "print(emp_w_init_one.fullname())\n",
    "print(emp_w_init_two.fullname())"
   ]
  },
  {
   "cell_type": "code",
   "execution_count": 7,
   "metadata": {},
   "outputs": [
    {
     "data": {
      "text/plain": [
       "'Lucas Zocoli'"
      ]
     },
     "execution_count": 7,
     "metadata": {},
     "output_type": "execute_result"
    }
   ],
   "source": [
    "# Since fullname uses self, to be more precise, an instance\n",
    "# You can use this instead of using the object to print it out\n",
    "\n",
    "Employee.fullname(emp_w_init_one)"
   ]
  }
 ],
 "metadata": {
  "interpreter": {
   "hash": "0984bf700f435ca0ee7f4258bc9a9f0bc9d490927c47fb26e20f603f8168b4e1"
  },
  "kernelspec": {
   "display_name": "Python 3.8.12 64-bit ('py': conda)",
   "language": "python",
   "name": "python3"
  },
  "language_info": {
   "codemirror_mode": {
    "name": "ipython",
    "version": 3
   },
   "file_extension": ".py",
   "mimetype": "text/x-python",
   "name": "python",
   "nbconvert_exporter": "python",
   "pygments_lexer": "ipython3",
   "version": "3.8.12"
  },
  "orig_nbformat": 4
 },
 "nbformat": 4,
 "nbformat_minor": 2
}
